{
 "cells": [
  {
   "cell_type": "code",
   "execution_count": 1,
   "metadata": {},
   "outputs": [],
   "source": [
    "import pandas as pd\n",
    "#import numpy as np\n",
    "from tqdm import tqdm"
   ]
  },
  {
   "cell_type": "code",
   "execution_count": 2,
   "metadata": {},
   "outputs": [],
   "source": [
    "df1 = pd.read_csv('./7059.csv')\n",
    "df2 = pd.read_csv('./6679.csv')\n",
    "df3 = pd.read_csv('./6593.csv')\n",
    "df4 = pd.read_csv('./6518.csv')"
   ]
  },
  {
   "cell_type": "code",
   "execution_count": 3,
   "metadata": {},
   "outputs": [],
   "source": [
    "submission = pd.DataFrame()\n",
    "submission['image_id'] = df1['image_id']"
   ]
  },
  {
   "cell_type": "code",
   "execution_count": 4,
   "metadata": {},
   "outputs": [
    {
     "name": "stderr",
     "output_type": "stream",
     "text": [
      "100%|██████████| 624/624 [05:40<00:00,  1.83it/s]\n"
     ]
    }
   ],
   "source": [
    "PredictionString = []\n",
    "\n",
    "for idx in tqdm(range(len(df1))):\n",
    "    first = df1['PredictionString'][idx].split(' ')\n",
    "    second = df2['PredictionString'][idx].split(' ')\n",
    "    third = df3['PredictionString'][idx].split(' ')\n",
    "    fourth = df4['PredictionString'][idx].split(' ')\n",
    "\n",
    "    result = ''\n",
    "\n",
    "    for i in range(len(first)):\n",
    "        pixel_count = {'0' : 0, '1' : 0, '2' : 0, \n",
    "                      '3' : 0, '4' : 0, '5' : 0,\n",
    "                      '6' : 0, '7' : 0, '8' : 0,\n",
    "                      '9' : 0, '10' : 0}\n",
    "        \n",
    "        best_model = first[i]\n",
    "\n",
    "        pixel_count[first[i]] += 1\n",
    "        pixel_count[second[i]] += 1\n",
    "        pixel_count[third[i]] += 1\n",
    "        pixel_count[fourth[i]] += 1\n",
    "\n",
    "        # 최댓값을 갖는 키값\n",
    "        voted_pixel = [key for key, value in pixel_count.items() if value == max(pixel_count.values())]\n",
    "\n",
    "        # voted_pixel이 2개 이상인 경우\n",
    "        if len(voted_pixel) > 1:\n",
    "            # best_model이 뽑은 pixel이 있는 경우\n",
    "            if best_model in pixel_count:\n",
    "                result += best_model + ' '\n",
    "        # 1개만 뽑힌 경우 (model이 4개 이하일 경우만)\n",
    "        else:\n",
    "            result += voted_pixel[0] + ' '\n",
    "\n",
    "    # 마지막 공백 제거\n",
    "    result = result[:-1]\n",
    "\n",
    "    PredictionString.append(result)"
   ]
  },
  {
   "cell_type": "code",
   "execution_count": 5,
   "metadata": {},
   "outputs": [],
   "source": [
    "submission['PredictionString'] = PredictionString\n",
    "submission.to_csv('./hard_voted_output.csv', index=False)"
   ]
  },
  {
   "cell_type": "code",
   "execution_count": null,
   "metadata": {},
   "outputs": [],
   "source": []
  }
 ],
 "metadata": {
  "interpreter": {
   "hash": "b61334fc597f37c4afc7c0cbc444a32addc4879ea1f88dd9327d69e6c1a401a2"
  },
  "kernelspec": {
   "display_name": "Python 3.8.12 ('torch')",
   "language": "python",
   "name": "python3"
  },
  "language_info": {
   "codemirror_mode": {
    "name": "ipython",
    "version": 3
   },
   "file_extension": ".py",
   "mimetype": "text/x-python",
   "name": "python",
   "nbconvert_exporter": "python",
   "pygments_lexer": "ipython3",
   "version": "3.8.12"
  },
  "orig_nbformat": 4
 },
 "nbformat": 4,
 "nbformat_minor": 2
}
