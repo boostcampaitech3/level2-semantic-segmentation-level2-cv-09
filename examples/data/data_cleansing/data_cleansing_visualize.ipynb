{
 "cells": [
  {
   "cell_type": "code",
   "execution_count": null,
   "metadata": {},
   "outputs": [],
   "source": [
    "import pandas as pd\n",
    "import numpy as np\n",
    "\n",
    "import json\n",
    "from pycocotools.coco import COCO\n",
    "\n",
    "from tqdm import tqdm\n",
    "import os\n",
    "import copy\n",
    "\n",
    "import matplotlib.pyplot as plt\n",
    "from matplotlib.patches import Patch\n",
    "import cv2\n",
    "import webcolors"
   ]
  },
  {
   "cell_type": "markdown",
   "metadata": {},
   "source": [
    "### 시각화를 위한 함수 및 변수 초기화"
   ]
  },
  {
   "cell_type": "code",
   "execution_count": null,
   "metadata": {},
   "outputs": [],
   "source": [
    "def get_classname(classID, cats):\n",
    "    for i in range(len(cats)):\n",
    "        if cats[i]['id']==classID:\n",
    "            return cats[i]['name']\n",
    "    return \"None\"\n",
    "\n",
    "def create_trash_label_colormap():\n",
    "    \"\"\"Creates a label colormap used in Trash segmentation.\n",
    "    Returns:\n",
    "        A colormap for visualizing segmentation results.\n",
    "    \"\"\"\n",
    "    colormap = np.zeros((11, 3), dtype=np.uint8)\n",
    "    for inex, (_, r, g, b) in enumerate(class_colormap.values):\n",
    "        colormap[inex] = [r, g, b]\n",
    "    \n",
    "    return colormap\n",
    "\n",
    "def label_to_color_image(label):\n",
    "    \"\"\"Adds color defined by the dataset colormap to the label.\n",
    "\n",
    "    Args:\n",
    "        label: A 2D array with integer type, storing the segmentation label.\n",
    "\n",
    "    Returns:\n",
    "        result: A 2D array with floating type. The element of the array\n",
    "                is the color indexed by the corresponding element in the input label\n",
    "                to the trash color map.\n",
    "\n",
    "    Raises:\n",
    "        ValueError: If label is not of rank 2 or its value is larger than color\n",
    "              map maximum entry.\n",
    "    \"\"\"\n",
    "    if label.ndim != 2:\n",
    "        raise ValueError('Expect 2-D input label')\n",
    "\n",
    "    colormap = create_trash_label_colormap()\n",
    "\n",
    "    if np.max(label) >= len(colormap):\n",
    "        raise ValueError('label value too large.')\n",
    "\n",
    "    return colormap[label]\n",
    "\n",
    "category_names = [\n",
    "    \"Background\",\n",
    "    \"General trash\",\n",
    "    \"Paper\",\n",
    "    \"Paper pack\",\n",
    "    \"Metal\",\n",
    "    \"Glass\",\n",
    "    \"Plastic\",\n",
    "    \"Styrofoam\",\n",
    "    \"Plastic bag\",\n",
    "    \"Battery\",\n",
    "    \"Clothing\",\n",
    "]\n",
    "\n",
    "# variable for legend\n",
    "class_colormap = pd.read_csv(\"../../../class_dict.csv\")\n",
    "\n",
    "category_and_rgb = [[category, (r,g,b)] for idx, (category, r, g, b) in enumerate(class_colormap.values)]\n",
    "legend_elements = [Patch(facecolor=webcolors.rgb_to_hex(rgb), \n",
    "                        edgecolor=webcolors.rgb_to_hex(rgb), \n",
    "                        label=category) for category, rgb in category_and_rgb]"
   ]
  },
  {
   "cell_type": "code",
   "execution_count": null,
   "metadata": {},
   "outputs": [],
   "source": [
    "# 구글 드라이브에 업로드했습니다.\n",
    "df = pd.read_csv('./ver3/image.csv')"
   ]
  },
  {
   "cell_type": "code",
   "execution_count": null,
   "metadata": {},
   "outputs": [],
   "source": [
    "df.head(3)"
   ]
  },
  {
   "cell_type": "code",
   "execution_count": null,
   "metadata": {},
   "outputs": [],
   "source": [
    "file_name_list = list(df.file_name)\n",
    "\n",
    "len(file_name_list)"
   ]
  },
  {
   "cell_type": "code",
   "execution_count": null,
   "metadata": {},
   "outputs": [],
   "source": [
    "data_dir = '../../../../data'"
   ]
  },
  {
   "cell_type": "code",
   "execution_count": null,
   "metadata": {},
   "outputs": [],
   "source": [
    "# train.json 정보 불러오기\n",
    "with open(os.path.join(data_dir, 'train_all.json'), 'r', encoding='UTF-8') as train_json:\n",
    "    train_data = json.load(train_json)\n",
    "    \n",
    "    info = train_data['info']\n",
    "    licenses = train_data['licenses']\n",
    "    categories = train_data['categories']\n",
    "    \n",
    "    train_images = train_data['images']\n",
    "    train_annotations = train_data['annotations']"
   ]
  },
  {
   "cell_type": "markdown",
   "metadata": {},
   "source": [
    "### 이미지 제외하기"
   ]
  },
  {
   "cell_type": "code",
   "execution_count": null,
   "metadata": {},
   "outputs": [],
   "source": [
    "new_train_images = []\n",
    "new_train_annotations = []\n",
    "\n",
    "train_annotation_id = 0\n",
    "train_image_id = 0\n",
    "\n",
    "cnt = 0\n",
    "\n",
    "for img in tqdm(train_images):\n",
    "\n",
    "    file_name = img['file_name']\n",
    "\n",
    "    for ann in train_annotations:\n",
    "\n",
    "        if file_name in file_name_list:\n",
    "            continue\n",
    "        \n",
    "        if ann['image_id'] == img['id']:\n",
    "            new_train_annotations.append(copy.deepcopy(ann))\n",
    "            new_train_annotations[-1]['id'] = train_annotation_id\n",
    "            new_train_annotations[-1]['image_id'] = train_image_id\n",
    "            train_annotation_id += 1\n",
    "\n",
    "    if file_name in file_name_list:\n",
    "        cnt += 1\n",
    "    else:\n",
    "        new_train_images.append(copy.deepcopy(img))\n",
    "        new_train_images[-1]['id'] = train_image_id\n",
    "        train_image_id += 1\n",
    "\n",
    "print(f'{cnt} images excluded.')\n",
    "            "
   ]
  },
  {
   "cell_type": "markdown",
   "metadata": {},
   "source": [
    "### Plastic bag 내부 object의 category가 외부 object의 category와 겹치지 않을 때, category_id 변경해주기"
   ]
  },
  {
   "cell_type": "code",
   "execution_count": null,
   "metadata": {},
   "outputs": [],
   "source": [
    "# Plastic bag 내부에 있어 바뀌어야 할 annotation.\n",
    "df_anno = pd.read_csv('./ver3/anno.csv')"
   ]
  },
  {
   "cell_type": "code",
   "execution_count": null,
   "metadata": {},
   "outputs": [],
   "source": [
    "img_id = []\n",
    "\n",
    "for img in new_train_images:\n",
    "    if img['file_name'] in list(df_anno.file_name):\n",
    "        img_id.append(img['id'])\n",
    "\n",
    "len(img_id)"
   ]
  },
  {
   "cell_type": "code",
   "execution_count": null,
   "metadata": {},
   "outputs": [],
   "source": [
    "# input/data 경로에 train_test.json으로 저장\n",
    "with open('../../../../data/train_test.json', 'w', encoding='UTF-8') as new_json:\n",
    "    json.dump({ 'info': info, 'licenses': licenses, 'images': new_train_images, \n",
    "            'annotations': new_train_annotations, 'categories': categories}, new_json, indent=1)"
   ]
  },
  {
   "cell_type": "code",
   "execution_count": null,
   "metadata": {},
   "outputs": [],
   "source": [
    "coco = COCO(os.path.join(data_dir, 'train_test.json'))"
   ]
  },
  {
   "cell_type": "markdown",
   "metadata": {},
   "source": [
    "#### 바꾸기 전 시각화"
   ]
  },
  {
   "cell_type": "code",
   "execution_count": null,
   "metadata": {},
   "outputs": [],
   "source": [
    "dataset_path = '../../../../data/'\n",
    "\n",
    "for id in img_id:\n",
    "\n",
    "    image_infos = coco.loadImgs(id)[0]\n",
    "\n",
    "    ann_ids = coco.getAnnIds(id)\n",
    "    anns = coco.loadAnns(ann_ids)\n",
    "\n",
    "    cat_ids = coco.getCatIds()\n",
    "    cats = coco.loadCats(cat_ids)\n",
    "\n",
    "    masks = np.zeros((512, 512))\n",
    "\n",
    "    anns = sorted(anns, key=lambda idx : idx['area'], reverse=True)\n",
    "\n",
    "    for i in range(len(anns)):\n",
    "        className = get_classname(anns[i]['category_id'], cats)\n",
    "        pixel_value = category_names.index(className)\n",
    "        masks[coco.annToMask(anns[i]) == 1] = pixel_value\n",
    "    masks = masks.astype(np.int8)\n",
    "    masks = label_to_color_image(masks)\n",
    "\n",
    "    images = cv2.imread(os.path.join(dataset_path, image_infos['file_name']))\n",
    "    images = cv2.cvtColor(images, cv2.COLOR_BGR2RGB)\n",
    "\n",
    "    fig, (ax1, ax2) = plt.subplots(nrows=1, ncols=2, figsize=(10, 10))\n",
    "\n",
    "    ax1.imshow(images)\n",
    "    ax1.grid(False)\n",
    "    ax1.set_title(\"input image : {}\".format(image_infos['file_name']), fontsize = 15)\n",
    "\n",
    "    ax2.imshow(masks)\n",
    "    ax2.grid(False)\n",
    "    ax2.set_title(\"masks : {}\".format(image_infos['file_name']), fontsize = 15)\n",
    "\n",
    "    ax2.legend(handles=legend_elements, bbox_to_anchor=(1.05, 1), loc=2, borderaxespad=0)"
   ]
  },
  {
   "cell_type": "code",
   "execution_count": null,
   "metadata": {},
   "outputs": [],
   "source": [
    "file_names = list(df_anno.file_name)\n",
    "cats = df_anno.category\n",
    "\n",
    "for f, c in zip(file_names, cats):\n",
    "    c = c.split(', ')\n",
    "\n",
    "    for img in new_train_images:\n",
    "        if f == img['file_name']:\n",
    "            for i in range(len(new_train_annotations)):\n",
    "                if new_train_annotations[i]['image_id'] == img['id']:\n",
    "                    if new_train_annotations[i]['category_id'] == int(c[0]):\n",
    "                        new_train_annotations[i]['category_id'] = 8\n",
    "                    \n",
    "                    if len(c) > 1:\n",
    "                        if new_train_annotations[i]['category_id'] == int(c[1]):\n",
    "                            new_train_annotations[i]['category_id'] = 8\n",
    "\n"
   ]
  },
  {
   "cell_type": "code",
   "execution_count": null,
   "metadata": {},
   "outputs": [],
   "source": [
    "# input/data 경로에 train_test.json으로 저장\n",
    "with open('../../../../data/train_test.json', 'w', encoding='UTF-8') as new_json:\n",
    "    json.dump({ 'info': info, 'licenses': licenses, 'images': new_train_images, \n",
    "            'annotations': new_train_annotations, 'categories': categories}, new_json, indent=1)"
   ]
  },
  {
   "cell_type": "code",
   "execution_count": null,
   "metadata": {},
   "outputs": [],
   "source": [
    "coco_test = COCO(os.path.join(data_dir, 'train_test.json'))"
   ]
  },
  {
   "cell_type": "markdown",
   "metadata": {},
   "source": [
    "#### 바꾼 후 시각화"
   ]
  },
  {
   "cell_type": "code",
   "execution_count": null,
   "metadata": {},
   "outputs": [],
   "source": [
    "for id in img_id:\n",
    "\n",
    "    image_infos = coco_test.loadImgs(id)[0]\n",
    "\n",
    "    ann_ids = coco_test.getAnnIds(id)\n",
    "    anns = coco_test.loadAnns(ann_ids)\n",
    "\n",
    "    cat_ids = coco_test.getCatIds()\n",
    "    cats = coco_test.loadCats(cat_ids)\n",
    "\n",
    "    masks = np.zeros((512, 512))\n",
    "\n",
    "    anns = sorted(anns, key=lambda idx : idx['area'], reverse=True)\n",
    "\n",
    "    for i in range(len(anns)):\n",
    "        className = get_classname(anns[i]['category_id'], cats)\n",
    "        pixel_value = category_names.index(className)\n",
    "        masks[coco_test.annToMask(anns[i]) == 1] = pixel_value\n",
    "    masks = masks.astype(np.int8)\n",
    "    masks = label_to_color_image(masks)\n",
    "\n",
    "    images = cv2.imread(os.path.join(dataset_path, image_infos['file_name']))\n",
    "    images = cv2.cvtColor(images, cv2.COLOR_BGR2RGB)\n",
    "\n",
    "    fig, (ax1, ax2) = plt.subplots(nrows=1, ncols=2, figsize=(20, 20))\n",
    "\n",
    "    ax1.imshow(images)\n",
    "    ax1.grid(False)\n",
    "    ax1.set_title(\"input image : {}\".format(image_infos['file_name']), fontsize = 15)\n",
    "\n",
    "    ax2.imshow(masks)\n",
    "    ax2.grid(False)\n",
    "    ax2.set_title(\"masks : {}\".format(image_infos['file_name']), fontsize = 15)\n",
    "\n",
    "    ax2.legend(handles=legend_elements, bbox_to_anchor=(1.05, 1), loc=2, borderaxespad=0)"
   ]
  },
  {
   "cell_type": "markdown",
   "metadata": {},
   "source": [
    "#### Plastic bag 내부 object의 category와 외부 object의 category가 겹친다면, Plastic bbox 안에 있는 객체의 category 바꿔주기"
   ]
  },
  {
   "cell_type": "code",
   "execution_count": null,
   "metadata": {},
   "outputs": [],
   "source": [
    "df_bbox = pd.read_csv('./ver3/bbox.csv')"
   ]
  },
  {
   "cell_type": "code",
   "execution_count": null,
   "metadata": {},
   "outputs": [],
   "source": [
    "df_bbox"
   ]
  },
  {
   "cell_type": "code",
   "execution_count": null,
   "metadata": {},
   "outputs": [],
   "source": [
    "img_id = []\n",
    "\n",
    "for img in new_train_images:\n",
    "    if img['file_name'] in list(df_bbox.file_name):\n",
    "        img_id.append(img['id'])\n",
    "\n",
    "img_id"
   ]
  },
  {
   "cell_type": "markdown",
   "metadata": {},
   "source": [
    "#### 바꾸기 전 시각화"
   ]
  },
  {
   "cell_type": "code",
   "execution_count": null,
   "metadata": {},
   "outputs": [],
   "source": [
    "for id in img_id:\n",
    "\n",
    "    image_infos = coco.loadImgs(id)[0]\n",
    "\n",
    "    ann_ids = coco.getAnnIds(id)\n",
    "    anns = coco.loadAnns(ann_ids)\n",
    "\n",
    "    cat_ids = coco.getCatIds()\n",
    "    cats = coco.loadCats(cat_ids)\n",
    "\n",
    "    masks = np.zeros((512, 512))\n",
    "\n",
    "    anns = sorted(anns, key=lambda idx : idx['area'], reverse=True)\n",
    "\n",
    "    for i in range(len(anns)):\n",
    "        className = get_classname(anns[i]['category_id'], cats)\n",
    "        pixel_value = category_names.index(className)\n",
    "        masks[coco.annToMask(anns[i]) == 1] = pixel_value\n",
    "    masks = masks.astype(np.int8)\n",
    "    masks = label_to_color_image(masks)\n",
    "\n",
    "    images = cv2.imread(os.path.join(dataset_path, image_infos['file_name']))\n",
    "    images = cv2.cvtColor(images, cv2.COLOR_BGR2RGB)\n",
    "\n",
    "    fig, (ax1, ax2) = plt.subplots(nrows=1, ncols=2, figsize=(10, 10))\n",
    "\n",
    "    ax1.imshow(images)\n",
    "    ax1.grid(False)\n",
    "    ax1.set_title(\"input image : {}\".format(image_infos['file_name']), fontsize = 15)\n",
    "\n",
    "    ax2.imshow(masks)\n",
    "    ax2.grid(False)\n",
    "    ax2.set_title(\"masks : {}\".format(image_infos['file_name']), fontsize = 15)\n",
    "\n",
    "    ax2.legend(handles=legend_elements, bbox_to_anchor=(1.05, 1), loc=2, borderaxespad=0)"
   ]
  },
  {
   "cell_type": "code",
   "execution_count": null,
   "metadata": {},
   "outputs": [],
   "source": [
    "for i in img_id:\n",
    "    for j in range(len(new_train_annotations)):\n",
    "        if i == new_train_annotations[j]['image_id'] and new_train_annotations[j]['category_id'] == 8:\n",
    "            \n",
    "            bbox_pb = new_train_annotations[j]['bbox']\n",
    "\n",
    "            x_min_pb = bbox_pb[0]\n",
    "            y_min_pb = bbox_pb[1]\n",
    "            x_max_pb = x_min_pb + bbox_pb[2]\n",
    "            y_max_pb = y_min_pb + bbox_pb[3]\n",
    "\n",
    "            for k in range(len(new_train_annotations)):\n",
    "                if k != j and new_train_annotations[k]['image_id'] == i:\n",
    "                    bbox = new_train_annotations[k]['bbox']\n",
    "\n",
    "                    x_min = bbox[0]\n",
    "                    y_min = bbox[1]\n",
    "                    x_max = x_min + bbox[2]\n",
    "                    y_max = y_min + bbox[3]\n",
    "\n",
    "                    if x_min_pb <= x_min and y_min_pb <= y_min and x_max_pb >= x_max and y_max_pb >= y_max:\n",
    "                        new_train_annotations[k]['category_id'] = 8"
   ]
  },
  {
   "cell_type": "code",
   "execution_count": null,
   "metadata": {},
   "outputs": [],
   "source": [
    "# input/data 경로에 train_test.json으로 저장\n",
    "with open('../../../../data/train_test.json', 'w', encoding='UTF-8') as new_json:\n",
    "    json.dump({ 'info': info, 'licenses': licenses, 'images': new_train_images, \n",
    "            'annotations': new_train_annotations, 'categories': categories}, new_json, indent=1)"
   ]
  },
  {
   "cell_type": "code",
   "execution_count": null,
   "metadata": {},
   "outputs": [],
   "source": [
    "coco_test = COCO(os.path.join(data_dir, 'train_test.json'))"
   ]
  },
  {
   "cell_type": "markdown",
   "metadata": {},
   "source": [
    "#### 바꾼 후 시각화"
   ]
  },
  {
   "cell_type": "code",
   "execution_count": null,
   "metadata": {},
   "outputs": [],
   "source": [
    "for id in img_id:\n",
    "\n",
    "    image_infos = coco_test.loadImgs(id)[0]\n",
    "\n",
    "    ann_ids = coco_test.getAnnIds(id)\n",
    "    anns = coco_test.loadAnns(ann_ids)\n",
    "\n",
    "    cat_ids = coco_test.getCatIds()\n",
    "    cats = coco_test.loadCats(cat_ids)\n",
    "\n",
    "    masks = np.zeros((512, 512))\n",
    "\n",
    "    anns = sorted(anns, key=lambda idx : idx['area'], reverse=True)\n",
    "\n",
    "    for i in range(len(anns)):\n",
    "        className = get_classname(anns[i]['category_id'], cats)\n",
    "        pixel_value = category_names.index(className)\n",
    "        masks[coco_test.annToMask(anns[i]) == 1] = pixel_value\n",
    "    masks = masks.astype(np.int8)\n",
    "    masks = label_to_color_image(masks)\n",
    "\n",
    "    images = cv2.imread(os.path.join(dataset_path, image_infos['file_name']))\n",
    "    images = cv2.cvtColor(images, cv2.COLOR_BGR2RGB)\n",
    "\n",
    "    fig, (ax1, ax2) = plt.subplots(nrows=1, ncols=2, figsize=(20, 20))\n",
    "\n",
    "    ax1.imshow(images)\n",
    "    ax1.grid(False)\n",
    "    ax1.set_title(\"input image : {}\".format(image_infos['file_name']), fontsize = 15)\n",
    "\n",
    "    ax2.imshow(masks)\n",
    "    ax2.grid(False)\n",
    "    ax2.set_title(\"masks : {}\".format(image_infos['file_name']), fontsize = 15)\n",
    "\n",
    "    ax2.legend(handles=legend_elements, bbox_to_anchor=(1.05, 1), loc=2, borderaxespad=0)"
   ]
  }
 ],
 "metadata": {
  "interpreter": {
   "hash": "b61334fc597f37c4afc7c0cbc444a32addc4879ea1f88dd9327d69e6c1a401a2"
  },
  "kernelspec": {
   "display_name": "Python 3.8.12 ('torch')",
   "language": "python",
   "name": "python3"
  },
  "language_info": {
   "codemirror_mode": {
    "name": "ipython",
    "version": 3
   },
   "file_extension": ".py",
   "mimetype": "text/x-python",
   "name": "python",
   "nbconvert_exporter": "python",
   "pygments_lexer": "ipython3",
   "version": "3.8.12"
  },
  "orig_nbformat": 4
 },
 "nbformat": 4,
 "nbformat_minor": 2
}
