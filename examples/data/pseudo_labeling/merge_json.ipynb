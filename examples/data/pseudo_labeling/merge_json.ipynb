{
 "cells": [
  {
   "cell_type": "code",
   "execution_count": null,
   "metadata": {},
   "outputs": [],
   "source": [
    "import glob\n",
    "from tqdm import tqdm\n",
    "import pandas as pd\n",
    "import numpy as np\n",
    "import cv2\n",
    "import os\n",
    "from PIL import Image\n",
    "import json\n",
    "\n",
    "data_dir = '/opt/ml/input/data'\n",
    "with open('/opt/ml/input/data/new_train_all_anno_excluded.json', 'r', encoding='UTF-8') as data_json:\n",
    "        train_data = json.load(data_json)\n",
    "with open('/opt/ml/input/data/pseudo.json', 'r', encoding='UTF-8') as data_json:\n",
    "        pseudo_data = json.load(data_json)"
   ]
  },
  {
   "cell_type": "code",
   "execution_count": null,
   "metadata": {},
   "outputs": [],
   "source": [
    "\n",
    "# info = train_data['info']\n",
    "# licenses = train_data['licenses']\n",
    "# categories = train_data['categories']\n",
    "# images = train_data['images']\n",
    "# annotations = train_data['annotations']\n",
    "print(train_data['images'][-1])\n",
    "print(train_data['annotations'][-1]['id'])\n",
    "\n",
    "pseudo_info = pseudo_data['info']\n",
    "pseudo_licenses = pseudo_data['licenses']\n",
    "pseudo_categories = pseudo_data['categories']\n",
    "pseudo_images = pseudo_data['images']\n",
    "pseudo_annotations = pseudo_data['annotations']\n",
    "print(pseudo_images[-1])\n",
    "print(pseudo_annotations[-1]['id'])\n",
    "\n",
    "start_image_id = train_data['images'][-1]['id'] + 1\n",
    "start_anno_id = train_data['annotations'][-1]['id'] + 1"
   ]
  },
  {
   "cell_type": "code",
   "execution_count": null,
   "metadata": {},
   "outputs": [],
   "source": [
    "for idx in tqdm(range(len(pseudo_annotations))):\n",
    "    new_anno = pseudo_annotations[idx]\n",
    "    new_anno['id'] += start_anno_id\n",
    "    new_anno['image_id'] += start_image_id\n",
    "    train_data['annotations'].append(new_anno)"
   ]
  },
  {
   "cell_type": "code",
   "execution_count": null,
   "metadata": {},
   "outputs": [],
   "source": [
    "print(train_data['annotations'][-1]['id'])"
   ]
  },
  {
   "cell_type": "code",
   "execution_count": null,
   "metadata": {},
   "outputs": [],
   "source": [
    "for idx in tqdm(range(len(pseudo_images))):\n",
    "    new_anno = pseudo_images[idx]\n",
    "    new_anno['id'] += start_image_id\n",
    "    train_data['images'].append(new_anno)"
   ]
  },
  {
   "cell_type": "code",
   "execution_count": null,
   "metadata": {},
   "outputs": [],
   "source": [
    "print(train_data['images'][-1]['id'])"
   ]
  },
  {
   "cell_type": "code",
   "execution_count": null,
   "metadata": {},
   "outputs": [],
   "source": [
    "\n",
    "with open(os.path.join(data_dir, 'train_pseudo.json'), 'w') as f:\n",
    "    json.dump(train_data, f, indent=1)"
   ]
  },
  {
   "cell_type": "code",
   "execution_count": null,
   "metadata": {},
   "outputs": [],
   "source": []
  }
 ],
 "metadata": {
  "interpreter": {
   "hash": "d4d1e4263499bec80672ea0156c357c1ee493ec2b1c70f0acce89fc37c4a6abe"
  },
  "kernelspec": {
   "display_name": "Python 3.8.5 ('base')",
   "language": "python",
   "name": "python3"
  },
  "language_info": {
   "codemirror_mode": {
    "name": "ipython",
    "version": 3
   },
   "file_extension": ".py",
   "mimetype": "text/x-python",
   "name": "python",
   "nbconvert_exporter": "python",
   "pygments_lexer": "ipython3",
   "version": "3.8.5"
  },
  "orig_nbformat": 4
 },
 "nbformat": 4,
 "nbformat_minor": 2
}
