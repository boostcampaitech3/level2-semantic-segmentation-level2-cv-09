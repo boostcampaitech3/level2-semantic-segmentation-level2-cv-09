{
 "cells": [
  {
   "cell_type": "code",
   "execution_count": 1,
   "metadata": {},
   "outputs": [],
   "source": [
    "import pandas as pd\n",
    "import numpy as np\n",
    "import cv2\n",
    "import os\n",
    "from PIL import Image\n",
    "from tqdm.contrib import tzip"
   ]
  },
  {
   "cell_type": "code",
   "execution_count": 2,
   "metadata": {},
   "outputs": [],
   "source": [
    "root_directory = '../../../../data/'"
   ]
  },
  {
   "cell_type": "code",
   "execution_count": 3,
   "metadata": {},
   "outputs": [],
   "source": [
    "df = pd.read_csv('./output.csv')"
   ]
  },
  {
   "cell_type": "code",
   "execution_count": 4,
   "metadata": {},
   "outputs": [],
   "source": [
    "file_names = list(df.image_id)\n",
    "PredictionString = list(df.PredictionString)"
   ]
  },
  {
   "cell_type": "code",
   "execution_count": 5,
   "metadata": {},
   "outputs": [
    {
     "data": {
      "text/plain": [
       "'batch_01_vt/0021'"
      ]
     },
     "execution_count": 5,
     "metadata": {},
     "output_type": "execute_result"
    }
   ],
   "source": [
    "file_names[0][:-4]"
   ]
  },
  {
   "cell_type": "code",
   "execution_count": 6,
   "metadata": {},
   "outputs": [
    {
     "name": "stderr",
     "output_type": "stream",
     "text": [
      "100%|██████████| 624/624 [00:06<00:00, 97.14it/s] \n"
     ]
    }
   ],
   "source": [
    "if not os.path.isdir(os.path.join(root_directory, 'pseudo_mask')):\n",
    "    os.mkdir(os.path.join(root_directory, 'pseudo_mask'))\n",
    "\n",
    "    os.mkdir(os.path.join(root_directory, 'pseudo_mask/batch_01_vt'))\n",
    "    os.mkdir(os.path.join(root_directory, 'pseudo_mask/batch_02_vt'))\n",
    "    os.mkdir(os.path.join(root_directory, 'pseudo_mask/batch_03'))\n",
    "\n",
    "for f, p in tzip(file_names, PredictionString):\n",
    "\n",
    "    f = f[:-4]\n",
    "\n",
    "    save_path = os.path.join(root_directory, f'pseudo_mask/{f}.png')\n",
    "\n",
    "    mask = np.array(p.split(' '), dtype=np.uint8).reshape(256, 256)\n",
    "    mask = Image.fromarray(np.uint8(mask))\n",
    "    mask = mask.resize((512, 512), Image.NEAREST)\n",
    "\n",
    "    mask.save(save_path)"
   ]
  },
  {
   "cell_type": "code",
   "execution_count": 7,
   "metadata": {},
   "outputs": [],
   "source": [
    "img = cv2.imread('../../../../data/pseudo_mask/batch_01_vt/0021.png', cv2.IMREAD_GRAYSCALE)"
   ]
  }
 ],
 "metadata": {
  "interpreter": {
   "hash": "b61334fc597f37c4afc7c0cbc444a32addc4879ea1f88dd9327d69e6c1a401a2"
  },
  "kernelspec": {
   "display_name": "Python 3.8.12 ('torch')",
   "language": "python",
   "name": "python3"
  },
  "language_info": {
   "codemirror_mode": {
    "name": "ipython",
    "version": 3
   },
   "file_extension": ".py",
   "mimetype": "text/x-python",
   "name": "python",
   "nbconvert_exporter": "python",
   "pygments_lexer": "ipython3",
   "version": "3.8.12"
  },
  "orig_nbformat": 4
 },
 "nbformat": 4,
 "nbformat_minor": 2
}
